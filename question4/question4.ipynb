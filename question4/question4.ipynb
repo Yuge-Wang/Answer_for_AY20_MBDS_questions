{
 "cells": [
  {
   "cell_type": "code",
   "execution_count": 1,
   "metadata": {},
   "outputs": [],
   "source": [
    "def explore(pixels, row, col, num_comps):\n",
    "    pixels[row][col] = str(num_comps + 1)\n",
    "    n_row = len(pixels)\n",
    "    n_col = len(pixels[0])\n",
    "    for x, y in [(row - 1, col), (row + 1, col), (row, col - 1), (row, col + 1)]:\n",
    "        if 0 <= x < n_row and 0 <= y < n_col and pixels[x][y] == \"1\":\n",
    "            explore(pixels, x, y, num_comps)"
   ]
  },
  {
   "cell_type": "code",
   "execution_count": 2,
   "metadata": {},
   "outputs": [],
   "source": [
    "def solve(pixels):\n",
    "    n_row = len(pixels)\n",
    "    n_col = len(pixels[0])\n",
    "\n",
    "    num_comps = 0\n",
    "    for row in range(n_row):\n",
    "        for col in range(n_col):\n",
    "            if pixels[row][col] == \"1\":\n",
    "                num_comps += 1\n",
    "                explore(pixels, row, col, num_comps)\n",
    "    for row in range(n_row):\n",
    "        for col in range(n_col):\n",
    "            if pixels[row][col] == str(num_comps + 1):\n",
    "                pixels[row][col] = '1'"
   ]
  },
  {
   "cell_type": "code",
   "execution_count": 3,
   "metadata": {},
   "outputs": [],
   "source": [
    "pixels = []\n",
    "with open(r'input_question_4', 'r') as f:\n",
    "    for line in f:\n",
    "        line = line.strip().split('\\t')\n",
    "        pixels.append(line)"
   ]
  },
  {
   "cell_type": "code",
   "execution_count": 4,
   "metadata": {},
   "outputs": [],
   "source": [
    "solve(pixels)\n",
    "with open (r'output_question_4', 'w') as f:\n",
    "    for line in range(len(pixels)):\n",
    "        f.write('\\t'.join(pixels[line]) + '\\n')"
   ]
  },
  {
   "cell_type": "code",
   "execution_count": null,
   "metadata": {},
   "outputs": [],
   "source": []
  }
 ],
 "metadata": {
  "kernelspec": {
   "display_name": "Python 3",
   "language": "python",
   "name": "python3"
  },
  "language_info": {
   "codemirror_mode": {
    "name": "ipython",
    "version": 3
   },
   "file_extension": ".py",
   "mimetype": "text/x-python",
   "name": "python",
   "nbconvert_exporter": "python",
   "pygments_lexer": "ipython3",
   "version": "3.8.3"
  }
 },
 "nbformat": 4,
 "nbformat_minor": 4
}

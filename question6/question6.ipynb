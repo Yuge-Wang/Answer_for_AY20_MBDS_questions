{
 "cells": [
  {
   "cell_type": "code",
   "execution_count": 1,
   "metadata": {},
   "outputs": [],
   "source": [
    "import numpy as np\n",
    "import pandas as pd\n",
    "polygon = pd.read_table(r'data/input_question_6_polygon', header = None, sep = ' ')\n",
    "points = pd.read_table(r'data/input_question_6_points', header = None, sep = ' ')"
   ]
  },
  {
   "cell_type": "code",
   "execution_count": 2,
   "metadata": {},
   "outputs": [],
   "source": [
    "result = []\n",
    "for index, point in points.iterrows():\n",
    "    point_x = point[0]\n",
    "    point_y = point[1]\n",
    "    count = 0\n",
    "    for j in range(len(polygon)):\n",
    "        vertex1 = polygon.iloc[j]\n",
    "        vertex2 = polygon.iloc[(j + 1) % len(polygon)]\n",
    "        if vertex1[1] == vertex2[1]:\n",
    "            continue\n",
    "        if point_y < min(vertex1[1], vertex2[1]):\n",
    "            continue\n",
    "        if point_y >= max(vertex1[1], vertex2[1]):\n",
    "            continue\n",
    "        cross_x = (point_y - vertex1[1]) * (vertex2[0] - vertex1[0]) / (vertex2[1] - vertex1[1]) + vertex1[0]\n",
    "        if cross_x > point_x:\n",
    "            count += 1\n",
    "    if count % 2 == 1:\n",
    "        result.append(\"inside\")\n",
    "    else:\n",
    "        result.append(\"outside\")"
   ]
  },
  {
   "cell_type": "code",
   "execution_count": 3,
   "metadata": {},
   "outputs": [],
   "source": [
    "points.insert(2, \"result\", result)\n",
    "points.to_csv(r'output_question_6', index = False, header = False, sep = \" \")"
   ]
  }
 ],
 "metadata": {
  "kernelspec": {
   "display_name": "Python 3",
   "language": "python",
   "name": "python3"
  },
  "language_info": {
   "codemirror_mode": {
    "name": "ipython",
    "version": 3
   },
   "file_extension": ".py",
   "mimetype": "text/x-python",
   "name": "python",
   "nbconvert_exporter": "python",
   "pygments_lexer": "ipython3",
   "version": "3.8.3"
  }
 },
 "nbformat": 4,
 "nbformat_minor": 4
}

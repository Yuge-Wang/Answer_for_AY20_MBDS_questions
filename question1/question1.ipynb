{
 "cells": [
  {
   "cell_type": "code",
   "execution_count": 21,
   "metadata": {},
   "outputs": [],
   "source": [
    "def curr_max_sum(x, y, m, n):\n",
    "    return (y + 1 + m) * (m - y) / 2 + (n - x) * m"
   ]
  },
  {
   "cell_type": "code",
   "execution_count": 22,
   "metadata": {},
   "outputs": [],
   "source": [
    "def curr_min_sum(x, y, m, n):\n",
    "    return y * (n - x) + (y + 1 + m) * (m - y) / 2"
   ]
  },
  {
   "cell_type": "code",
   "execution_count": 23,
   "metadata": {},
   "outputs": [],
   "source": [
    "def explore(x, y, m, n, target):\n",
    "    temp_oper = []\n",
    "    temp_sum = 1\n",
    "    while True:\n",
    "        if x == n and y == m:\n",
    "            return temp_oper\n",
    "        if x < n:\n",
    "            go_right = True\n",
    "        max_sum = curr_max_sum(x, y, m, n)\n",
    "        min_sum = curr_min_sum(x, y, m, n)\n",
    "        if max_sum + temp_sum < target or min_sum + temp_sum > target:\n",
    "            x -= 1\n",
    "            go_right = False\n",
    "            temp_oper.pop()\n",
    "            temp_sum -= y\n",
    "        if go_right:\n",
    "            x += 1\n",
    "            temp_oper.append(\"R\")\n",
    "            temp_sum += y\n",
    "        else:\n",
    "            y += 1\n",
    "            temp_oper.append(\"D\")\n",
    "            temp_sum += y"
   ]
  },
  {
   "cell_type": "code",
   "execution_count": 24,
   "metadata": {},
   "outputs": [],
   "source": [
    "def solve(m, n, target):\n",
    "    oper = explore(1, 1, m, n, target)\n",
    "    return ''.join(oper)"
   ]
  },
  {
   "cell_type": "code",
   "execution_count": 25,
   "metadata": {},
   "outputs": [],
   "source": [
    "def write_to_file(target, result, file):\n",
    "    with open(file, 'a') as f:\n",
    "        f.write(str(target) + ' ' + result + '\\n')"
   ]
  },
  {
   "cell_type": "code",
   "execution_count": 26,
   "metadata": {},
   "outputs": [],
   "source": [
    "m = 9\n",
    "n = 9\n",
    "output = 'output_question_1'\n",
    "targets = [65, 72, 90, 110]\n",
    "for target in targets:\n",
    "    write_to_file(target, solve(m, n, target), output)"
   ]
  },
  {
   "cell_type": "code",
   "execution_count": 27,
   "metadata": {},
   "outputs": [],
   "source": [
    "with open(output, 'a') as f:\n",
    "    f.write('\\n')"
   ]
  },
  {
   "cell_type": "code",
   "execution_count": 28,
   "metadata": {},
   "outputs": [],
   "source": [
    "m = 90000\n",
    "n = 100000\n",
    "targets = [8712723119, 5994891682]\n",
    "for target in targets:\n",
    "    write_to_file(target, solve(m, n, target), output)"
   ]
  },
  {
   "cell_type": "code",
   "execution_count": null,
   "metadata": {},
   "outputs": [],
   "source": []
  }
 ],
 "metadata": {
  "kernelspec": {
   "display_name": "Python 3",
   "language": "python",
   "name": "python3"
  },
  "language_info": {
   "codemirror_mode": {
    "name": "ipython",
    "version": 3
   },
   "file_extension": ".py",
   "mimetype": "text/x-python",
   "name": "python",
   "nbconvert_exporter": "python",
   "pygments_lexer": "ipython3",
   "version": "3.8.3"
  }
 },
 "nbformat": 4,
 "nbformat_minor": 4
}

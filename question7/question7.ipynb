{
 "cells": [
  {
   "cell_type": "code",
   "execution_count": 42,
   "metadata": {},
   "outputs": [],
   "source": [
    "import numpy as np\n",
    "import pandas as pd\n",
    "inp_coor = pd.read_table(r'C:\\Users\\wang\\Desktop\\NTU\\BDS\\AY20_MBDS_questions\\AY20_MBDS_questions\\Question 7\\Question 7.1\\input_coordinates_7_1.txt',sep = '\\t')\n",
    "x1 = inp_coor[\"x1\"]\n",
    "x2 = inp_coor[\"x2\"]"
   ]
  },
  {
   "cell_type": "code",
   "execution_count": 43,
   "metadata": {},
   "outputs": [],
   "source": [
    "L1 = 50\n",
    "L2 = 57"
   ]
  },
  {
   "cell_type": "code",
   "execution_count": 44,
   "metadata": {
    "scrolled": false
   },
   "outputs": [
    {
     "data": {
      "text/html": [
       "<div>\n",
       "<style scoped>\n",
       "    .dataframe tbody tr th:only-of-type {\n",
       "        vertical-align: middle;\n",
       "    }\n",
       "\n",
       "    .dataframe tbody tr th {\n",
       "        vertical-align: top;\n",
       "    }\n",
       "\n",
       "    .dataframe thead th {\n",
       "        text-align: right;\n",
       "    }\n",
       "</style>\n",
       "<table border=\"1\" class=\"dataframe\">\n",
       "  <thead>\n",
       "    <tr style=\"text-align: right;\">\n",
       "      <th></th>\n",
       "      <th>index</th>\n",
       "    </tr>\n",
       "  </thead>\n",
       "  <tbody>\n",
       "    <tr>\n",
       "      <th>0</th>\n",
       "      <td>2766</td>\n",
       "    </tr>\n",
       "    <tr>\n",
       "      <th>1</th>\n",
       "      <td>527</td>\n",
       "    </tr>\n",
       "    <tr>\n",
       "      <th>2</th>\n",
       "      <td>448</td>\n",
       "    </tr>\n",
       "    <tr>\n",
       "      <th>3</th>\n",
       "      <td>148</td>\n",
       "    </tr>\n",
       "    <tr>\n",
       "      <th>4</th>\n",
       "      <td>2355</td>\n",
       "    </tr>\n",
       "    <tr>\n",
       "      <th>...</th>\n",
       "      <td>...</td>\n",
       "    </tr>\n",
       "    <tr>\n",
       "      <th>1420</th>\n",
       "      <td>2079</td>\n",
       "    </tr>\n",
       "    <tr>\n",
       "      <th>1421</th>\n",
       "      <td>1963</td>\n",
       "    </tr>\n",
       "    <tr>\n",
       "      <th>1422</th>\n",
       "      <td>1510</td>\n",
       "    </tr>\n",
       "    <tr>\n",
       "      <th>1423</th>\n",
       "      <td>1824</td>\n",
       "    </tr>\n",
       "    <tr>\n",
       "      <th>1424</th>\n",
       "      <td>283</td>\n",
       "    </tr>\n",
       "  </tbody>\n",
       "</table>\n",
       "<p>1425 rows × 1 columns</p>\n",
       "</div>"
      ],
      "text/plain": [
       "      index\n",
       "0      2766\n",
       "1       527\n",
       "2       448\n",
       "3       148\n",
       "4      2355\n",
       "...     ...\n",
       "1420   2079\n",
       "1421   1963\n",
       "1422   1510\n",
       "1423   1824\n",
       "1424    283\n",
       "\n",
       "[1425 rows x 1 columns]"
      ]
     },
     "execution_count": 44,
     "metadata": {},
     "output_type": "execute_result"
    }
   ],
   "source": [
    "I = x2 * L1 + x1\n",
    "I = pd.DataFrame(I)\n",
    "I.columns = [\"index\"]\n",
    "I"
   ]
  },
  {
   "cell_type": "code",
   "execution_count": 45,
   "metadata": {},
   "outputs": [],
   "source": [
    "I.to_csv(r'C:\\Users\\wang\\Desktop\\NTU\\BDS\\AY20_MBDS_questions\\AY20_MBDS_questions\\Question 7\\Question 7.1\\output_index_7_1.txt', index = False, header = True)"
   ]
  },
  {
   "cell_type": "code",
   "execution_count": 46,
   "metadata": {},
   "outputs": [
    {
     "data": {
      "text/plain": [
       "0       2283\n",
       "1        332\n",
       "2       1582\n",
       "3         55\n",
       "4        325\n",
       "        ... \n",
       "1420    1549\n",
       "1421    2810\n",
       "1422     619\n",
       "1423     942\n",
       "1424     268\n",
       "Name: index, Length: 1425, dtype: int64"
      ]
     },
     "execution_count": 46,
     "metadata": {},
     "output_type": "execute_result"
    }
   ],
   "source": [
    "inp_in = pd.read_table(r'C:\\Users\\wang\\Desktop\\NTU\\BDS\\AY20_MBDS_questions\\AY20_MBDS_questions\\Question 7\\Question 7.1\\input_index_7_1.txt',sep = '\\t')\n",
    "index = inp_in[\"index\"]\n",
    "index"
   ]
  },
  {
   "cell_type": "code",
   "execution_count": 47,
   "metadata": {},
   "outputs": [],
   "source": [
    "row = index//L1\n",
    "col = index%L1"
   ]
  },
  {
   "cell_type": "code",
   "execution_count": 48,
   "metadata": {},
   "outputs": [],
   "source": [
    "out_coor = pd.DataFrame({\"x1\":col,\"x2\":row})\n",
    "out_coor.to_csv(r'C:\\Users\\wang\\Desktop\\NTU\\BDS\\AY20_MBDS_questions\\AY20_MBDS_questions\\Question 7\\Question 7.1\\output_coordinates_7_1.txt', index = False, header = True, sep = \"\\t\")"
   ]
  },
  {
   "cell_type": "code",
   "execution_count": null,
   "metadata": {},
   "outputs": [],
   "source": []
  },
  {
   "cell_type": "code",
   "execution_count": 49,
   "metadata": {},
   "outputs": [],
   "source": [
    "multi_coor = pd.read_table(r'C:\\Users\\wang\\Desktop\\NTU\\BDS\\AY20_MBDS_questions\\AY20_MBDS_questions\\Question 7\\Question 7.2\\input_coordinates_7_2.txt',sep = '\\t')\n",
    "x1 = multi_coor[\"x1\"]\n",
    "x2 = multi_coor[\"x2\"]\n",
    "x3 = multi_coor[\"x3\"]\n",
    "x4 = multi_coor[\"x4\"]\n",
    "x5 = multi_coor[\"x5\"]\n",
    "x6 = multi_coor[\"x6\"]"
   ]
  },
  {
   "cell_type": "code",
   "execution_count": 50,
   "metadata": {},
   "outputs": [],
   "source": [
    "L = [4,8,5,9,6,7]\n",
    "for i in range(1, len(L)):\n",
    "    L[i] = L[i] * L[i-1]\n",
    "I = x1 + L[0] * x2 + L[1] * x3 + L[2] * x4 + L[3] * x5 + L[4] * x6\n",
    "I = pd.DataFrame(I)\n",
    "I.columns = [\"index\"]\n",
    "I.to_csv(r'C:\\Users\\wang\\Desktop\\NTU\\BDS\\AY20_MBDS_questions\\AY20_MBDS_questions\\Question 7\\Question 7.2\\output_index_7_2.txt', index = False, header = True)"
   ]
  },
  {
   "cell_type": "code",
   "execution_count": null,
   "metadata": {},
   "outputs": [],
   "source": []
  },
  {
   "cell_type": "code",
   "execution_count": 51,
   "metadata": {},
   "outputs": [],
   "source": [
    "multi_index = pd.read_table(r'C:\\Users\\wang\\Desktop\\NTU\\BDS\\AY20_MBDS_questions\\AY20_MBDS_questions\\Question 7\\Question 7.2\\input_index_7_2.txt',sep = '\\t')\n",
    "multi_index = multi_index[\"index\"]"
   ]
  },
  {
   "cell_type": "code",
   "execution_count": 52,
   "metadata": {},
   "outputs": [],
   "source": [
    "x6 = multi_index // L[4]\n",
    "res = multi_index % L[4]\n",
    "x5 = res // L[3]\n",
    "res = res % L[3]\n",
    "x4 = res // L[2]\n",
    "res = res % L[2]\n",
    "x3 = res // L[1]\n",
    "res = res % L[1]\n",
    "x2 = res // L[0]\n",
    "x1 = res % L[0]\n",
    "multi_out = pd.DataFrame({\"x1\":x1,\"x2\":x2,\"x3\":x3,\"x4\":x4,\"x5\":x5,\"x6\":x6})\n",
    "multi_out.to_csv(r'C:\\Users\\wang\\Desktop\\NTU\\BDS\\AY20_MBDS_questions\\AY20_MBDS_questions\\Question 7\\Question 7.2\\output_coordinates_7_2.txt', index = False, header = True, sep = \"\\t\")"
   ]
  },
  {
   "cell_type": "code",
   "execution_count": null,
   "metadata": {},
   "outputs": [],
   "source": []
  }
 ],
 "metadata": {
  "kernelspec": {
   "display_name": "Python 3",
   "language": "python",
   "name": "python3"
  },
  "language_info": {
   "codemirror_mode": {
    "name": "ipython",
    "version": 3
   },
   "file_extension": ".py",
   "mimetype": "text/x-python",
   "name": "python",
   "nbconvert_exporter": "python",
   "pygments_lexer": "ipython3",
   "version": "3.8.3"
  }
 },
 "nbformat": 4,
 "nbformat_minor": 4
}
